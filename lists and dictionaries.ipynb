{
 "cells": [
  {
   "cell_type": "code",
   "execution_count": null,
   "metadata": {},
   "outputs": [],
   "source": [
    "countries_tuple =(\"uganda\",\"kenya\",\"rwanda\",\"tanzania\",\"drcongo\")#tuple\n",
    "print(countries_tuple)#prints the tuple\n",
    "print()\n",
    "entry=(input(\"enter country from the listed\"))\n",
    "print(\"the country has an index of\",countries_tuple.index(entry))\n"
   ]
  },
  {
   "cell_type": "code",
   "execution_count": null,
   "metadata": {},
   "outputs": [],
   "source": [
    "\n",
    "countries_tuple =(\"uganda\",\"kenya\",\"rwanda\",\"tanzania\",\"drcongo\")\n",
    "print(countries_tuple)\n",
    "print()\n",
    "entry=(input(\"enter country from the listed\"))\n",
    "print(\"the country has an index of\",countries_tuple.index(entry))\n",
    "entry=int(input(\"enter a number\"))\n",
    "print(\"the country \",countries_tuple[entry],\"has that index\",entry)"
   ]
  },
  {
   "cell_type": "code",
   "execution_count": null,
   "metadata": {},
   "outputs": [],
   "source": [
    "\n",
    "sport_list=[\"tenis\",\"rugbay\",\"luddo\",\"draft\",\"basketball\"]\n",
    "sport_list.append(input(\"enter ypur favorite sport\"))\n",
    "sport_list.sort()\n",
    "print(sport_list)"
   ]
  },
  {
   "cell_type": "code",
   "execution_count": null,
   "metadata": {},
   "outputs": [],
   "source": [
    "school_list=[\"ruler\",\"rubber\",\"set\",\"pen\",\"book\"]\n",
    "print(school_list)\n",
    "dislike=(input(\"enter a requirement yoyu wish to delete\"))\n",
    "getrid=school_list.index(dislike)\n",
    "del school_list[getrid]\n",
    "print(school_list)\n"
   ]
  },
  {
   "cell_type": "code",
   "execution_count": null,
   "metadata": {},
   "outputs": [],
   "source": [
    "\n",
    "food_dictionary={}#creates a dictionary\n",
    " \n",
    "food1=input(\"enter a food you like\")\n",
    "food_dictionary[1]=food1#adds a key and value to the dictionary\n",
    "food2=input(\"enter another food you like\")\n",
    "food_dictionary[2]=food2#adds a key and value to the dictionary\n",
    "food3=input(\"enter a food you like\")\n",
    "food_dictionary[3]=food3#adds a key and value to the dictionary\n",
    "food4=input(\"enter a food you like\")\n",
    "food_dictionary[4]=food4#adds a key and value to the dictionary\n",
    "print(food_dictionary)\n",
    "\n",
    "dislike=int(input(\"which of the four do you want to remove\"))#asks the user to enter the number of the food they don't like\n",
    "del food_dictionary[dislike]#deletes the food that the user doesn't like\n",
    "    \n",
    "print(sorted(food_dictionary.values()))\n",
    "\n"
   ]
  },
  {
   "cell_type": "code",
   "execution_count": null,
   "metadata": {},
   "outputs": [],
   "source": [
    "color_list=[\"blue\",\"green\",\"red\",\"orange\",\"purple\",\"brown\",\"grey\",\"black\",\"white\",\"margenta\",]\n",
    "start_number=int(input('enter a start number between 0 and 4'))\n",
    "stop_number=int(input('enter a start number between 5 and 9'))\n",
    "print(color_list[start_number:stop_number])"
   ]
  },
  {
   "cell_type": "code",
   "execution_count": null,
   "metadata": {},
   "outputs": [],
   "source": [
    "numb_list=[234,456,874,908]\n",
    "for i in numb_list:\n",
    "    print(i)\n",
    "number=int(input('enter a start number in the list'))\n",
    "if number in numb_list:\n",
    "    print(number,\"is in postion\",numb_list.index(number))\n",
    "else:\n",
    "    print(\"it is not in the list\")"
   ]
  },
  {
   "cell_type": "code",
   "execution_count": null,
   "metadata": {},
   "outputs": [],
   "source": [
    "name1=input('enter name of a person you want to invite to the party')\n",
    "name2=input('enter name of another person ')\n",
    "name3=input('enter name of another person')\n",
    "names_list=[name1,name2,name3]\n",
    "choice=input(\"do you want to add others\")\n",
    "while choice=='y':\n",
    "    new= names_list.append('add the name')\n",
    "    choice=input(\"do you want to add others\")\n",
    "print(\"you have\",len(names_list),\"people coming to the party\")"
   ]
  },
  {
   "cell_type": "code",
   "execution_count": null,
   "metadata": {},
   "outputs": [],
   "source": [
    "name1=input('enter name of a person you want to invite to the party')\n",
    "name2=input('enter name of another person ')\n",
    "name3=input('enter name of another person')\n",
    "names_list=[name1,name2,name3]\n",
    "choice=input(\"do you want to add others\")\n",
    "while choice=='y':\n",
    "    new= names_list.append(input('add the name'))\n",
    "    choice=input(\"do you want to add others\")\n",
    "print(names_list)\n",
    "new=input('enter one of the names')\n",
    "print(new,\"is in position\",names_list.index(new),\"on the list\")\n",
    "change=input(\"do you still want that person to come to the party\")\n",
    "if change=='no':\n",
    "    names_list.remove(new)\n",
    "print(names_list)"
   ]
  },
  {
   "cell_type": "code",
   "execution_count": 1,
   "metadata": {},
   "outputs": [
    {
     "name": "stdout",
     "output_type": "stream",
     "text": [
      "news\n",
      "soap\n",
      "musc\n",
      "movie\n"
     ]
    }
   ],
   "source": [
    "program_list=[\"news\",\"soap\",\"musc\",\"movie\"]#creates a list  \n",
    "for x in program_list:\n",
    "    print(x)\n",
    "new=input('enter another program')\n",
    "possition=int(input('enter the position you want to kep it'))\n",
    "program_list.insert(possition,new)\n",
    "for x in program_list:\n",
    "    print(x)"
   ]
  },
  {
   "cell_type": "code",
   "execution_count": null,
   "metadata": {},
   "outputs": [],
   "source": [
    "nums=[]#creates a list\n",
    "count=0#creates a variable\n",
    "while count<3:#creates a loop\n",
    "    numb=int(input('enter numbers'))\n",
    "    nums.append(numb)#adds a number to the list\n",
    "    print(nums)\n",
    "    count=count+1#increments the variable\n",
    "last=input(\"do you want the last number saved\")#asks the user if they want the last number saved\n",
    "if last=='no':\n",
    "    nums.remove(numb)#removes the last number\n",
    "print(nums)#prints the list\n",
    "    "
   ]
  }
 ],
 "metadata": {
  "kernelspec": {
   "display_name": "Python 3.10.4 64-bit",
   "language": "python",
   "name": "python3"
  },
  "language_info": {
   "codemirror_mode": {
    "name": "ipython",
    "version": 3
   },
   "file_extension": ".py",
   "mimetype": "text/x-python",
   "name": "python",
   "nbconvert_exporter": "python",
   "pygments_lexer": "ipython3",
   "version": "3.10.4"
  },
  "orig_nbformat": 4,
  "vscode": {
   "interpreter": {
    "hash": "63963b3f4c440940f0b94a3100916033a226cb4f45979123153792d60aa56d6a"
   }
  }
 },
 "nbformat": 4,
 "nbformat_minor": 2
}
